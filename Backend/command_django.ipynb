{
 "cells": [
  {
   "metadata": {},
   "cell_type": "markdown",
   "source": "# Create db graph",
   "id": "48b99e3994057088"
  },
  {
   "metadata": {},
   "cell_type": "code",
   "outputs": [],
   "execution_count": null,
   "source": [
    "\n",
    "%%bash\n",
    "python manage.py graph_models -a -g -o prova.png"
   ],
   "id": "initial_id"
  },
  {
   "metadata": {},
   "cell_type": "markdown",
   "source": "# Reset Database",
   "id": "b15690e573aad649"
  },
  {
   "metadata": {},
   "cell_type": "markdown",
   "source": [
    "```\n",
    "python manage.py reset_db\n",
    "```"
   ],
   "id": "dbb4456a3d2704b5"
  },
  {
   "metadata": {},
   "cell_type": "markdown",
   "source": "",
   "id": "de0de818d2cc8801"
  },
  {
   "metadata": {},
   "cell_type": "code",
   "source": [
    "%%bash\n",
    "python manage.py makemigrations\n",
    "python manage.py migrate\n",
    "python manage.py loaddata data.json"
   ],
   "id": "5a2667bccc6749d4",
   "outputs": [],
   "execution_count": null
  }
 ],
 "metadata": {
  "kernelspec": {
   "display_name": "Python 3",
   "language": "python",
   "name": "python3"
  },
  "language_info": {
   "codemirror_mode": {
    "name": "ipython",
    "version": 2
   },
   "file_extension": ".py",
   "mimetype": "text/x-python",
   "name": "python",
   "nbconvert_exporter": "python",
   "pygments_lexer": "ipython2",
   "version": "2.7.6"
  }
 },
 "nbformat": 4,
 "nbformat_minor": 5
}
